{
 "cells": [
  {
   "cell_type": "markdown",
   "metadata": {},
   "source": [
    "# Analyzing Key Indicators of Positive Reviews for iOS Apps "
   ]
  },
  {
   "cell_type": "code",
   "execution_count": 1,
   "metadata": {},
   "outputs": [],
   "source": [
    "import pandas as pd \n",
    "import numpy as np \n",
    "import matplotlib.pyplot as plt\n",
    "import sklearn as sk\n",
    "import chart_studio.plotly as py\n",
    "import plotly.graph_objs as go\n",
    "import seaborn as sns\n",
    "from datetime import datetime\n",
    "import pprint"
   ]
  },
  {
   "cell_type": "markdown",
   "metadata": {},
   "source": [
    "## Data Source"
   ]
  },
  {
   "cell_type": "markdown",
   "metadata": {},
   "source": [
    "### https://www.kaggle.com/ramamet4/app-store-apple-data-set-10k-apps"
   ]
  },
  {
   "cell_type": "markdown",
   "metadata": {},
   "source": [
    "## Import & View Data Frames"
   ]
  },
  {
   "cell_type": "code",
   "execution_count": 2,
   "metadata": {},
   "outputs": [
    {
     "data": {
      "text/html": [
       "<div>\n",
       "<style scoped>\n",
       "    .dataframe tbody tr th:only-of-type {\n",
       "        vertical-align: middle;\n",
       "    }\n",
       "\n",
       "    .dataframe tbody tr th {\n",
       "        vertical-align: top;\n",
       "    }\n",
       "\n",
       "    .dataframe thead th {\n",
       "        text-align: right;\n",
       "    }\n",
       "</style>\n",
       "<table border=\"1\" class=\"dataframe\">\n",
       "  <thead>\n",
       "    <tr style=\"text-align: right;\">\n",
       "      <th></th>\n",
       "      <th>Unnamed: 0</th>\n",
       "      <th>id</th>\n",
       "      <th>track_name</th>\n",
       "      <th>size_bytes</th>\n",
       "      <th>currency</th>\n",
       "      <th>price</th>\n",
       "      <th>rating_count_tot</th>\n",
       "      <th>rating_count_ver</th>\n",
       "      <th>user_rating</th>\n",
       "      <th>user_rating_ver</th>\n",
       "      <th>ver</th>\n",
       "      <th>cont_rating</th>\n",
       "      <th>prime_genre</th>\n",
       "      <th>sup_devices.num</th>\n",
       "      <th>ipadSc_urls.num</th>\n",
       "      <th>lang.num</th>\n",
       "      <th>vpp_lic</th>\n",
       "    </tr>\n",
       "  </thead>\n",
       "  <tbody>\n",
       "    <tr>\n",
       "      <th>0</th>\n",
       "      <td>1</td>\n",
       "      <td>281656475</td>\n",
       "      <td>PAC-MAN Premium</td>\n",
       "      <td>100788224</td>\n",
       "      <td>USD</td>\n",
       "      <td>3.99</td>\n",
       "      <td>21292</td>\n",
       "      <td>26</td>\n",
       "      <td>4.0</td>\n",
       "      <td>4.5</td>\n",
       "      <td>6.3.5</td>\n",
       "      <td>4+</td>\n",
       "      <td>Games</td>\n",
       "      <td>38</td>\n",
       "      <td>5</td>\n",
       "      <td>10</td>\n",
       "      <td>1</td>\n",
       "    </tr>\n",
       "    <tr>\n",
       "      <th>1</th>\n",
       "      <td>2</td>\n",
       "      <td>281796108</td>\n",
       "      <td>Evernote - stay organized</td>\n",
       "      <td>158578688</td>\n",
       "      <td>USD</td>\n",
       "      <td>0.00</td>\n",
       "      <td>161065</td>\n",
       "      <td>26</td>\n",
       "      <td>4.0</td>\n",
       "      <td>3.5</td>\n",
       "      <td>8.2.2</td>\n",
       "      <td>4+</td>\n",
       "      <td>Productivity</td>\n",
       "      <td>37</td>\n",
       "      <td>5</td>\n",
       "      <td>23</td>\n",
       "      <td>1</td>\n",
       "    </tr>\n",
       "    <tr>\n",
       "      <th>2</th>\n",
       "      <td>3</td>\n",
       "      <td>281940292</td>\n",
       "      <td>WeatherBug - Local Weather, Radar, Maps, Alerts</td>\n",
       "      <td>100524032</td>\n",
       "      <td>USD</td>\n",
       "      <td>0.00</td>\n",
       "      <td>188583</td>\n",
       "      <td>2822</td>\n",
       "      <td>3.5</td>\n",
       "      <td>4.5</td>\n",
       "      <td>5.0.0</td>\n",
       "      <td>4+</td>\n",
       "      <td>Weather</td>\n",
       "      <td>37</td>\n",
       "      <td>5</td>\n",
       "      <td>3</td>\n",
       "      <td>1</td>\n",
       "    </tr>\n",
       "    <tr>\n",
       "      <th>3</th>\n",
       "      <td>4</td>\n",
       "      <td>282614216</td>\n",
       "      <td>eBay: Best App to Buy, Sell, Save! Online Shop...</td>\n",
       "      <td>128512000</td>\n",
       "      <td>USD</td>\n",
       "      <td>0.00</td>\n",
       "      <td>262241</td>\n",
       "      <td>649</td>\n",
       "      <td>4.0</td>\n",
       "      <td>4.5</td>\n",
       "      <td>5.10.0</td>\n",
       "      <td>12+</td>\n",
       "      <td>Shopping</td>\n",
       "      <td>37</td>\n",
       "      <td>5</td>\n",
       "      <td>9</td>\n",
       "      <td>1</td>\n",
       "    </tr>\n",
       "    <tr>\n",
       "      <th>4</th>\n",
       "      <td>5</td>\n",
       "      <td>282935706</td>\n",
       "      <td>Bible</td>\n",
       "      <td>92774400</td>\n",
       "      <td>USD</td>\n",
       "      <td>0.00</td>\n",
       "      <td>985920</td>\n",
       "      <td>5320</td>\n",
       "      <td>4.5</td>\n",
       "      <td>5.0</td>\n",
       "      <td>7.5.1</td>\n",
       "      <td>4+</td>\n",
       "      <td>Reference</td>\n",
       "      <td>37</td>\n",
       "      <td>5</td>\n",
       "      <td>45</td>\n",
       "      <td>1</td>\n",
       "    </tr>\n",
       "  </tbody>\n",
       "</table>\n",
       "</div>"
      ],
      "text/plain": [
       "   Unnamed: 0         id                                         track_name  \\\n",
       "0           1  281656475                                    PAC-MAN Premium   \n",
       "1           2  281796108                          Evernote - stay organized   \n",
       "2           3  281940292    WeatherBug - Local Weather, Radar, Maps, Alerts   \n",
       "3           4  282614216  eBay: Best App to Buy, Sell, Save! Online Shop...   \n",
       "4           5  282935706                                              Bible   \n",
       "\n",
       "   size_bytes currency  price  rating_count_tot  rating_count_ver  \\\n",
       "0   100788224      USD   3.99             21292                26   \n",
       "1   158578688      USD   0.00            161065                26   \n",
       "2   100524032      USD   0.00            188583              2822   \n",
       "3   128512000      USD   0.00            262241               649   \n",
       "4    92774400      USD   0.00            985920              5320   \n",
       "\n",
       "   user_rating  user_rating_ver     ver cont_rating   prime_genre  \\\n",
       "0          4.0              4.5   6.3.5          4+         Games   \n",
       "1          4.0              3.5   8.2.2          4+  Productivity   \n",
       "2          3.5              4.5   5.0.0          4+       Weather   \n",
       "3          4.0              4.5  5.10.0         12+      Shopping   \n",
       "4          4.5              5.0   7.5.1          4+     Reference   \n",
       "\n",
       "   sup_devices.num  ipadSc_urls.num  lang.num  vpp_lic  \n",
       "0               38                5        10        1  \n",
       "1               37                5        23        1  \n",
       "2               37                5         3        1  \n",
       "3               37                5         9        1  \n",
       "4               37                5        45        1  "
      ]
     },
     "execution_count": 2,
     "metadata": {},
     "output_type": "execute_result"
    }
   ],
   "source": [
    "apps = pd.read_csv('AppleStore.csv')\n",
    "apps.head()"
   ]
  },
  {
   "cell_type": "code",
   "execution_count": 3,
   "metadata": {},
   "outputs": [
    {
     "name": "stdout",
     "output_type": "stream",
     "text": [
      "<class 'pandas.core.frame.DataFrame'>\n",
      "RangeIndex: 7197 entries, 0 to 7196\n",
      "Data columns (total 17 columns):\n",
      "Unnamed: 0          7197 non-null int64\n",
      "id                  7197 non-null int64\n",
      "track_name          7197 non-null object\n",
      "size_bytes          7197 non-null int64\n",
      "currency            7197 non-null object\n",
      "price               7197 non-null float64\n",
      "rating_count_tot    7197 non-null int64\n",
      "rating_count_ver    7197 non-null int64\n",
      "user_rating         7197 non-null float64\n",
      "user_rating_ver     7197 non-null float64\n",
      "ver                 7197 non-null object\n",
      "cont_rating         7197 non-null object\n",
      "prime_genre         7197 non-null object\n",
      "sup_devices.num     7197 non-null int64\n",
      "ipadSc_urls.num     7197 non-null int64\n",
      "lang.num            7197 non-null int64\n",
      "vpp_lic             7197 non-null int64\n",
      "dtypes: float64(3), int64(9), object(5)\n",
      "memory usage: 955.9+ KB\n"
     ]
    }
   ],
   "source": [
    "apps.info()"
   ]
  },
  {
   "cell_type": "markdown",
   "metadata": {},
   "source": [
    "### This data set consists of entries for a variety off applications present on the Apple store for iOS. As Apple takes curation of its market place much more seriously than most of its competitors, apps with higher ratings are more commonly featured on both the store landing page and search results. It is for this reason that I intend to discover the most important factors to a high user rating, defined as any score above a 4/5."
   ]
  },
  {
   "cell_type": "markdown",
   "metadata": {},
   "source": [
    "## Attribute explanations"
   ]
  },
  {
   "cell_type": "markdown",
   "metadata": {},
   "source": [
    "### id - The individual ID for each application <br>track_name - The individual title for each application <br>size_bytes - The size of the application <br>currency - The native currency of the application (in this case all USD) <br>price - Cost of the application <br>rating_count_tot - How many ratings the application has received in its lifetime <br>rating_count_ver - How many ratings the application has received for this version <br>user_rating - The aggregate user rating for the applicaton <br>user_rating_ver - The aggregate user rating for the application at its current version <br>ver - The current application version <br>cont_rating - The content rating for the application (4+, 9+, etc) <br>prime_genre - Genre for the application <br>sup_devices.num - Number of devices supported by the application <br>ipadSc_urls.num - Number of screenshots shown on the application page <br>lang.num - Number of supported languages <br>vpp_lic - Whether or not Vpp device based licensing enabled"
   ]
  },
  {
   "cell_type": "markdown",
   "metadata": {},
   "source": [
    "### Remove Unnecesary columns"
   ]
  },
  {
   "cell_type": "markdown",
   "metadata": {},
   "source": [
    "#### -id: Unique to each app, not needed\n",
    "#### -currency: Is all 'USD' for this dataset\n",
    "#### -vpp_lic: An index, not needed"
   ]
  },
  {
   "cell_type": "code",
   "execution_count": 4,
   "metadata": {},
   "outputs": [],
   "source": [
    "apps = apps.drop(columns=['id', 'currency', 'vpp_lic'])"
   ]
  },
  {
   "cell_type": "markdown",
   "metadata": {},
   "source": [
    "### Rename a few columns with more intuitive names"
   ]
  },
  {
   "cell_type": "code",
   "execution_count": 5,
   "metadata": {},
   "outputs": [],
   "source": [
    "apps.rename(columns = {'sup_devices.num':'sup_devices_num', 'ipadSc_urls.num':'images_num', 'lang.num':'lang_num'}, inplace = True)"
   ]
  },
  {
   "cell_type": "markdown",
   "metadata": {},
   "source": [
    "## Exploratory Data Analysis"
   ]
  },
  {
   "cell_type": "markdown",
   "metadata": {},
   "source": [
    "### Size Distribution"
   ]
  },
  {
   "cell_type": "code",
   "execution_count": 6,
   "metadata": {},
   "outputs": [
    {
     "data": {
      "text/plain": [
       "Text(0, 0.5, 'Frequency')"
      ]
     },
     "execution_count": 6,
     "metadata": {},
     "output_type": "execute_result"
    },
    {
     "data": {
      "image/png": "[encoded data removed]",
      "text/plain": [
       "<Figure size 432x288 with 1 Axes>"
      ]
     },
     "metadata": {
      "needs_background": "light"
     },
     "output_type": "display_data"
    }
   ],
   "source": [
    "sns.distplot(apps['size_bytes'], hist=True, kde=False, color = 'blue')\n",
    "\n",
    "# Add labels\n",
    "plt.title('Distribution of App Size')\n",
    "plt.xlabel('Size (Bytes)')\n",
    "plt.ylabel('Frequency')"
   ]
  },
  {
   "cell_type": "markdown",
   "metadata": {},
   "source": [
    "#### Most of the apps are 1/2 of a Byte or less."
   ]
  },
  {
   "cell_type": "markdown",
   "metadata": {},
   "source": [
    "### App Price Distribution"
   ]
  },
  {
   "cell_type": "code",
   "execution_count": 7,
   "metadata": {},
   "outputs": [
    {
     "data": {
      "text/plain": [
       "Text(0, 0.5, 'Frequency')"
      ]
     },
     "execution_count": 7,
     "metadata": {},
     "output_type": "execute_result"
    },
    {
     "data": {
      "image/png": "[encoded data removed]",
      "text/plain": [
       "<Figure size 432x288 with 1 Axes>"
      ]
     },
     "metadata": {
      "needs_background": "light"
     },
     "output_type": "display_data"
    }
   ],
   "source": [
    "sns.distplot(apps['price'], hist=True, kde=False, color = 'blue')\n",
    "\n",
    "# Add labels\n",
    "plt.title('Histogram of App Price')\n",
    "plt.xlabel('Price')\n",
    "plt.ylabel('Frequency')"
   ]
  },
  {
   "cell_type": "markdown",
   "metadata": {},
   "source": [
    "### Free vs Paid Apps"
   ]
  },
  {
   "cell_type": "code",
   "execution_count": 8,
   "metadata": {},
   "outputs": [],
   "source": [
    "# Create dummy variable that represents free (0) vs paid (1) apps\n",
    "apps['is_free'] = np.where(apps['price'] > 0, 1, 0)"
   ]
  },
  {
   "cell_type": "code",
   "execution_count": 9,
   "metadata": {},
   "outputs": [
    {
     "data": {
      "text/plain": [
       "4056"
      ]
     },
     "execution_count": 9,
     "metadata": {},
     "output_type": "execute_result"
    }
   ],
   "source": [
    "# Get count of free apps\n",
    "apps['is_free'][apps['is_free'] == 0].count()"
   ]
  },
  {
   "cell_type": "code",
   "execution_count": 10,
   "metadata": {},
   "outputs": [
    {
     "data": {
      "text/plain": [
       "3141"
      ]
     },
     "execution_count": 10,
     "metadata": {},
     "output_type": "execute_result"
    }
   ],
   "source": [
    "# Get count of paid apps\n",
    "apps['is_free'][apps['is_free'] == 1].count()"
   ]
  },
  {
   "cell_type": "code",
   "execution_count": 11,
   "metadata": {},
   "outputs": [
    {
     "data": {
      "text/plain": [
       "Text(0, 0.5, 'Count')"
      ]
     },
     "execution_count": 11,
     "metadata": {},
     "output_type": "execute_result"
    },
    {
     "data": {
      "image/png": "[encoded data removed]",
      "text/plain": [
       "<Figure size 432x288 with 1 Axes>"
      ]
     },
     "metadata": {
      "needs_background": "light"
     },
     "output_type": "display_data"
    }
   ],
   "source": [
    "sns.countplot(x='is_free', data=apps)\n",
    "\n",
    "# Add labels\n",
    "plt.title('Count of Free vs Paid Apps')\n",
    "plt.xlabel('Free App?')\n",
    "plt.ylabel('Count')"
   ]
  },
  {
   "cell_type": "markdown",
   "metadata": {},
   "source": [
    "#### It appears we have predominantly free (4056) apps compared to paid (3141) ones."
   ]
  },
  {
   "cell_type": "markdown",
   "metadata": {},
   "source": [
    "### Total Ratings Count Distribution"
   ]
  },
  {
   "cell_type": "code",
   "execution_count": 12,
   "metadata": {},
   "outputs": [
    {
     "data": {
      "text/plain": [
       "Text(0, 0.5, 'Frequency')"
      ]
     },
     "execution_count": 12,
     "metadata": {},
     "output_type": "execute_result"
    },
    {
     "data": {
      "image/png": "[encoded data removed]",
      "text/plain": [
       "<Figure size 432x288 with 1 Axes>"
      ]
     },
     "metadata": {
      "needs_background": "light"
     },
     "output_type": "display_data"
    }
   ],
   "source": [
    "sns.distplot(apps['rating_count_tot'], hist=True, kde=False, color = 'blue')\n",
    "\n",
    "# Add labels\n",
    "plt.title('Distribution of Total Ratings')\n",
    "plt.xlabel('Ratings')\n",
    "plt.ylabel('Frequency')"
   ]
  },
  {
   "cell_type": "code",
   "execution_count": 13,
   "metadata": {},
   "outputs": [
    {
     "data": {
      "text/plain": [
       "2974676"
      ]
     },
     "execution_count": 13,
     "metadata": {},
     "output_type": "execute_result"
    }
   ],
   "source": [
    "# Get maximum number of ratings of an app\n",
    "apps['rating_count_tot'].max()"
   ]
  },
  {
   "cell_type": "markdown",
   "metadata": {},
   "source": [
    "#### Unsurprisingly, the vast majority of the applications have a low ratings count, although one app has a count of 2974676!"
   ]
  },
  {
   "cell_type": "markdown",
   "metadata": {},
   "source": [
    "### Current Version Ratings Count Distribution"
   ]
  },
  {
   "cell_type": "code",
   "execution_count": 14,
   "metadata": {},
   "outputs": [
    {
     "data": {
      "text/plain": [
       "Text(0, 0.5, 'Frequency')"
      ]
     },
     "execution_count": 14,
     "metadata": {},
     "output_type": "execute_result"
    },
    {
     "data": {
      "image/png": "[encoded data removed]",
      "text/plain": [
       "<Figure size 432x288 with 1 Axes>"
      ]
     },
     "metadata": {
      "needs_background": "light"
     },
     "output_type": "display_data"
    }
   ],
   "source": [
    "sns.distplot(apps['rating_count_ver'], hist=True, kde=False, color = 'blue')\n",
    "\n",
    "# Add labels\n",
    "plt.title('Distribution of Ratings for Current Version')\n",
    "plt.xlabel('Ratings')\n",
    "plt.ylabel('Frequency')"
   ]
  },
  {
   "cell_type": "markdown",
   "metadata": {},
   "source": [
    "#### The same is true for the current version for most apps."
   ]
  },
  {
   "cell_type": "markdown",
   "metadata": {},
   "source": [
    "### User Ratings Distribution"
   ]
  },
  {
   "cell_type": "code",
   "execution_count": 15,
   "metadata": {},
   "outputs": [
    {
     "data": {
      "text/plain": [
       "Text(0, 0.5, 'Count')"
      ]
     },
     "execution_count": 15,
     "metadata": {},
     "output_type": "execute_result"
    },
    {
     "data": {
      "image/png": "[encoded data removed]",
      "text/plain": [
       "<Figure size 432x288 with 1 Axes>"
      ]
     },
     "metadata": {
      "needs_background": "light"
     },
     "output_type": "display_data"
    }
   ],
   "source": [
    "sns.countplot(x='user_rating', data=apps, color = 'blue')\n",
    "\n",
    "# Add labels\n",
    "plt.title('Distribution of User Ratings')\n",
    "plt.xlabel('Ratings')\n",
    "plt.ylabel('Count')"
   ]
  },
  {
   "cell_type": "markdown",
   "metadata": {},
   "source": [
    "#### Applications receieve ratings of between 1-5 stars in increments of 0.5. Applications with a rating of 0 have not been rated. It appears as though the majority of apps have a rating of 4 or above."
   ]
  },
  {
   "cell_type": "markdown",
   "metadata": {},
   "source": [
    "### Current Version User Ratings Distribution"
   ]
  },
  {
   "cell_type": "code",
   "execution_count": 16,
   "metadata": {},
   "outputs": [
    {
     "data": {
      "text/plain": [
       "Text(0, 0.5, 'Count')"
      ]
     },
     "execution_count": 16,
     "metadata": {},
     "output_type": "execute_result"
    },
    {
     "data": {
      "image/png": "[encoded data removed]",
      "text/plain": [
       "<Figure size 432x288 with 1 Axes>"
      ]
     },
     "metadata": {
      "needs_background": "light"
     },
     "output_type": "display_data"
    }
   ],
   "source": [
    "sns.countplot(x='user_rating', data=apps, color = 'blue')\n",
    "\n",
    "# Add labels\n",
    "plt.title('Distribution of User Ratings for Current Version')\n",
    "plt.xlabel('Ratings')\n",
    "plt.ylabel('Count')"
   ]
  },
  {
   "cell_type": "markdown",
   "metadata": {},
   "source": [
    "#### The distribution for the current version appears to mirror that of the general ratings distribution."
   ]
  },
  {
   "cell_type": "markdown",
   "metadata": {},
   "source": [
    "### Version Distribution"
   ]
  },
  {
   "cell_type": "code",
   "execution_count": 17,
   "metadata": {},
   "outputs": [
    {
     "data": {
      "image/png": "[encoded data removed]",
      "text/plain": [
       "<Figure size 432x288 with 1 Axes>"
      ]
     },
     "metadata": {
      "needs_background": "light"
     },
     "output_type": "display_data"
    }
   ],
   "source": [
    "sns_plt = sns.countplot(x='ver', data=apps, color = 'blue')\n",
    "sns_plt.set_xticklabels(sns_plt.get_xticklabels(), rotation = 90);\n",
    "\n",
    "# Add labels\n",
    "plt.title('Distribution of User Ratings for Current Version')\n",
    "plt.xlabel('Ratings')\n",
    "plt.ylabel('Count')\n",
    "plt.show()"
   ]
  },
  {
   "cell_type": "markdown",
   "metadata": {},
   "source": [
    "#### This variable is essentially unintelligible due to the lack of consistent structure in versioning as well as the fact that some versions contain strings. We will rectify this later."
   ]
  },
  {
   "cell_type": "markdown",
   "metadata": {},
   "source": [
    "### Content Rating Count"
   ]
  },
  {
   "cell_type": "code",
   "execution_count": 18,
   "metadata": {},
   "outputs": [
    {
     "data": {
      "image/png": "[encoded data removed]",
      "text/plain": [
       "<Figure size 432x288 with 1 Axes>"
      ]
     },
     "metadata": {
      "needs_background": "light"
     },
     "output_type": "display_data"
    }
   ],
   "source": [
    "sns_plt = sns.countplot(x='cont_rating', data=apps, order = ['4+','9+','12+','17+'])\n",
    "sns_plt.set_xticklabels(sns_plt.get_xticklabels(), rotation = 90);\n",
    "\n",
    "# Add labels\n",
    "plt.title('Distribution of Content Ratings')\n",
    "plt.xlabel('Content Rating')\n",
    "plt.ylabel('Count')\n",
    "plt.show()"
   ]
  },
  {
   "cell_type": "markdown",
   "metadata": {},
   "source": [
    "#### It appeasrs the vast majority of the apps having a rating of '4+' indicating that they are essentially for everyone."
   ]
  },
  {
   "cell_type": "markdown",
   "metadata": {},
   "source": [
    "### Prime Genre Count"
   ]
  },
  {
   "cell_type": "code",
   "execution_count": 19,
   "metadata": {},
   "outputs": [
    {
     "data": {
      "image/png": "[encoded data removed]",
      "text/plain": [
       "<Figure size 432x288 with 1 Axes>"
      ]
     },
     "metadata": {
      "needs_background": "light"
     },
     "output_type": "display_data"
    }
   ],
   "source": [
    "sns_plt = sns.countplot(x='prime_genre', data=apps, order = apps['prime_genre'].value_counts().index)\n",
    "sns_plt.set_xticklabels(sns_plt.get_xticklabels(), rotation = 90);\n",
    "\n",
    "# Add labels\n",
    "plt.title('Distribution of Prime Genre')\n",
    "plt.xlabel('Prime Genre')\n",
    "plt.ylabel('Count')\n",
    "plt.show()"
   ]
  },
  {
   "cell_type": "markdown",
   "metadata": {},
   "source": [
    "#### Most of the apps fall into the genre of 'Gaming' with 'Entertainment', 'Education', and 'Photo & Video' falling distantly behind"
   ]
  },
  {
   "cell_type": "markdown",
   "metadata": {},
   "source": [
    "### Supported Devices Distribution"
   ]
  },
  {
   "cell_type": "code",
   "execution_count": 20,
   "metadata": {},
   "outputs": [
    {
     "data": {
      "image/png": "[encoded data removed]",
      "text/plain": [
       "<Figure size 432x288 with 1 Axes>"
      ]
     },
     "metadata": {
      "needs_background": "light"
     },
     "output_type": "display_data"
    }
   ],
   "source": [
    "sns_plt = sns.countplot(x='sup_devices_num', data=apps, color = 'blue')\n",
    "sns_plt.set_xticklabels(sns_plt.get_xticklabels(), rotation = 90);\n",
    "\n",
    "# Add labels\n",
    "plt.title('Distribution of Supported Devices Count')\n",
    "plt.xlabel('Number of Devices')\n",
    "plt.ylabel('Count')\n",
    "plt.show()"
   ]
  },
  {
   "cell_type": "markdown",
   "metadata": {},
   "source": [
    "#### It seems that a most applications support at least 37 devices."
   ]
  },
  {
   "cell_type": "markdown",
   "metadata": {},
   "source": [
    "### Number of Screenshots on Page Distribution"
   ]
  },
  {
   "cell_type": "code",
   "execution_count": 21,
   "metadata": {},
   "outputs": [
    {
     "data": {
      "image/png": "[encoded data removed]",
      "text/plain": [
       "<Figure size 432x288 with 1 Axes>"
      ]
     },
     "metadata": {
      "needs_background": "light"
     },
     "output_type": "display_data"
    }
   ],
   "source": [
    "sns_plt = sns.countplot(x='images_num', data=apps, color = 'blue')\n",
    "sns_plt.set_xticklabels(sns_plt.get_xticklabels(), rotation = 90);\n",
    "\n",
    "# Add labels\n",
    "plt.title('Distribution of Screenshots on App Page')\n",
    "plt.xlabel('Number of Screenshots')\n",
    "plt.ylabel('Count')\n",
    "plt.show()"
   ]
  },
  {
   "cell_type": "markdown",
   "metadata": {},
   "source": [
    "#### Most apps have 5 screenshots which makes sense; likely the owner wants to show off as much functionality as possible."
   ]
  },
  {
   "cell_type": "markdown",
   "metadata": {},
   "source": [
    "### Number of Supported Languages Distribution"
   ]
  },
  {
   "cell_type": "code",
   "execution_count": 22,
   "metadata": {},
   "outputs": [
    {
     "data": {
      "image/png": "[encoded data removed]",
      "text/plain": [
       "<Figure size 432x288 with 1 Axes>"
      ]
     },
     "metadata": {
      "needs_background": "light"
     },
     "output_type": "display_data"
    }
   ],
   "source": [
    "sns.distplot(apps['lang_num'], hist=True, kde=False, color = 'blue')\n",
    "\n",
    "# Add labels\n",
    "plt.title('Distribution of Number of Supported Languages')\n",
    "plt.xlabel('Number of Languages')\n",
    "plt.ylabel('Frequency')\n",
    "plt.show()"
   ]
  },
  {
   "cell_type": "code",
   "execution_count": 23,
   "metadata": {},
   "outputs": [
    {
     "data": {
      "text/plain": [
       "75"
      ]
     },
     "execution_count": 23,
     "metadata": {},
     "output_type": "execute_result"
    }
   ],
   "source": [
    "# Get maximum number of languages supported\n",
    "apps['lang_num'].max()"
   ]
  },
  {
   "cell_type": "code",
   "execution_count": 24,
   "metadata": {},
   "outputs": [
    {
     "data": {
      "text/plain": [
       "3767"
      ]
     },
     "execution_count": 24,
     "metadata": {},
     "output_type": "execute_result"
    }
   ],
   "source": [
    "# Get number of apps that support 1 language\n",
    "apps['lang_num'][apps['lang_num'] == 1].count()"
   ]
  },
  {
   "cell_type": "code",
   "execution_count": 25,
   "metadata": {},
   "outputs": [
    {
     "data": {
      "text/plain": [
       "41"
      ]
     },
     "execution_count": 25,
     "metadata": {},
     "output_type": "execute_result"
    }
   ],
   "source": [
    "# Get number of apps that support 0 languages\n",
    "apps['lang_num'][apps['lang_num'] == 0].count()"
   ]
  },
  {
   "cell_type": "markdown",
   "metadata": {},
   "source": [
    "#### Most apps support 1 language (but some appear to support as many as 75!"
   ]
  },
  {
   "cell_type": "markdown",
   "metadata": {},
   "source": [
    "### Pairwise Plot of Numeric Variables"
   ]
  },
  {
   "cell_type": "markdown",
   "metadata": {},
   "source": [
    "#### Subset apps data set to just numeric variables\n",
    "apps_numeric = apps[['size_bytes', 'price', 'rating_count_tot', 'rating_count_ver', 'sup_devices_num', 'images_num', 'lang_num', 'is_free']].copy()\n",
    "sns.pairplot(apps_numeric);"
   ]
  },
  {
   "cell_type": "markdown",
   "metadata": {},
   "source": [
    "## Data Cleaning"
   ]
  },
  {
   "cell_type": "markdown",
   "metadata": {},
   "source": [
    "### I began the process of data cleaning by removing strings from numeric columns, removing empty columns, and looking for NA values. Next I performed some feature engineering in order to make some continuous variables more accesible. Finally, I created a target dummy variable consisting of a binary indication of whether an application was rated greater than or equal to 4/5."
   ]
  },
  {
   "cell_type": "markdown",
   "metadata": {},
   "source": [
    "### Truncate all versions to their first number and drop rows which contain strings in their version numbers (there are only 8), combine versions with leading 0's"
   ]
  },
  {
   "cell_type": "code",
   "execution_count": 26,
   "metadata": {},
   "outputs": [],
   "source": [
    "apps['ver'] = apps['ver'].str.split('.').str[0]"
   ]
  },
  {
   "cell_type": "code",
   "execution_count": 27,
   "metadata": {},
   "outputs": [
    {
     "name": "stderr",
     "output_type": "stream",
     "text": [
      "C:\\ProgramData\\Anaconda3\\lib\\site-packages\\ipykernel_launcher.py:1: SettingWithCopyWarning:\n",
      "\n",
      "\n",
      "A value is trying to be set on a copy of a slice from a DataFrame\n",
      "\n",
      "See the caveats in the documentation: http://pandas.pydata.org/pandas-docs/stable/indexing.html#indexing-view-versus-copy\n",
      "\n"
     ]
    }
   ],
   "source": [
    "apps['ver'][apps['ver'] == '00'] = '0'"
   ]
  },
  {
   "cell_type": "code",
   "execution_count": 28,
   "metadata": {},
   "outputs": [],
   "source": [
    "apps = apps[pd.to_numeric(apps['ver'], errors='coerce').notnull()]\n",
    "apps['ver'] = apps['ver'].astype(int)"
   ]
  },
  {
   "cell_type": "markdown",
   "metadata": {},
   "source": [
    "#### Replot the distribution of versions"
   ]
  },
  {
   "cell_type": "code",
   "execution_count": 29,
   "metadata": {},
   "outputs": [
    {
     "data": {
      "image/png": "[encoded data removed]",
      "text/plain": [
       "<Figure size 432x288 with 1 Axes>"
      ]
     },
     "metadata": {
      "needs_background": "light"
     },
     "output_type": "display_data"
    }
   ],
   "source": [
    "sns_plt = sns.countplot(x='ver', data=apps, color = 'blue')\n",
    "sns_plt.set_xticklabels(sns_plt.get_xticklabels(), rotation = 90);\n",
    "\n",
    "# Add labels\n",
    "plt.title('Distribution of User Ratings for Current Version')\n",
    "plt.xlabel('Ratings')\n",
    "plt.ylabel('Count')\n",
    "plt.show()"
   ]
  },
  {
   "cell_type": "code",
   "execution_count": 30,
   "metadata": {},
   "outputs": [
    {
     "data": {
      "text/plain": [
       "array([   6,    8,    5,    7,    1,    3,    4,   27,   21,   95,   11,\n",
       "          9,    2,   10,   24,   17,   12,    0,  114,   50,   22, 2013,\n",
       "         39,  337,   38,   14,   13,  111,   16, 2017,   23,  119,   58,\n",
       "       2023,   31,   30, 1705,   18, 3348,   54,  150, 2000,   29,   15,\n",
       "         43,  708,   20, 9999,   62,  104,   26], dtype=int64)"
      ]
     },
     "execution_count": 30,
     "metadata": {},
     "output_type": "execute_result"
    }
   ],
   "source": [
    "apps.ver.unique()"
   ]
  },
  {
   "cell_type": "markdown",
   "metadata": {},
   "source": [
    "### Check for NA values"
   ]
  },
  {
   "cell_type": "code",
   "execution_count": 31,
   "metadata": {},
   "outputs": [
    {
     "data": {
      "text/plain": [
       "Unnamed: 0          False\n",
       "track_name          False\n",
       "size_bytes          False\n",
       "price               False\n",
       "rating_count_tot    False\n",
       "rating_count_ver    False\n",
       "user_rating         False\n",
       "user_rating_ver     False\n",
       "ver                 False\n",
       "cont_rating         False\n",
       "prime_genre         False\n",
       "sup_devices_num     False\n",
       "images_num          False\n",
       "lang_num            False\n",
       "is_free             False\n",
       "dtype: bool"
      ]
     },
     "execution_count": 31,
     "metadata": {},
     "output_type": "execute_result"
    }
   ],
   "source": [
    "apps.isnull().any()"
   ]
  },
  {
   "cell_type": "markdown",
   "metadata": {},
   "source": [
    "### Reset index of data frame"
   ]
  },
  {
   "cell_type": "code",
   "execution_count": 32,
   "metadata": {},
   "outputs": [],
   "source": [
    "apps.reset_index(drop = True, inplace = True)"
   ]
  },
  {
   "cell_type": "markdown",
   "metadata": {},
   "source": [
    "### View final data frame"
   ]
  },
  {
   "cell_type": "code",
   "execution_count": 33,
   "metadata": {},
   "outputs": [
    {
     "name": "stdout",
     "output_type": "stream",
     "text": [
      "<class 'pandas.core.frame.DataFrame'>\n",
      "RangeIndex: 7189 entries, 0 to 7188\n",
      "Data columns (total 15 columns):\n",
      "Unnamed: 0          7189 non-null int64\n",
      "track_name          7189 non-null object\n",
      "size_bytes          7189 non-null int64\n",
      "price               7189 non-null float64\n",
      "rating_count_tot    7189 non-null int64\n",
      "rating_count_ver    7189 non-null int64\n",
      "user_rating         7189 non-null float64\n",
      "user_rating_ver     7189 non-null float64\n",
      "ver                 7189 non-null int32\n",
      "cont_rating         7189 non-null object\n",
      "prime_genre         7189 non-null object\n",
      "sup_devices_num     7189 non-null int64\n",
      "images_num          7189 non-null int64\n",
      "lang_num            7189 non-null int64\n",
      "is_free             7189 non-null int32\n",
      "dtypes: float64(3), int32(2), int64(7), object(3)\n",
      "memory usage: 786.4+ KB\n"
     ]
    }
   ],
   "source": [
    "apps.info()"
   ]
  },
  {
   "cell_type": "code",
   "execution_count": 34,
   "metadata": {},
   "outputs": [
    {
     "data": {
      "text/html": [
       "<div>\n",
       "<style scoped>\n",
       "    .dataframe tbody tr th:only-of-type {\n",
       "        vertical-align: middle;\n",
       "    }\n",
       "\n",
       "    .dataframe tbody tr th {\n",
       "        vertical-align: top;\n",
       "    }\n",
       "\n",
       "    .dataframe thead th {\n",
       "        text-align: right;\n",
       "    }\n",
       "</style>\n",
       "<table border=\"1\" class=\"dataframe\">\n",
       "  <thead>\n",
       "    <tr style=\"text-align: right;\">\n",
       "      <th></th>\n",
       "      <th>Unnamed: 0</th>\n",
       "      <th>track_name</th>\n",
       "      <th>size_bytes</th>\n",
       "      <th>price</th>\n",
       "      <th>rating_count_tot</th>\n",
       "      <th>rating_count_ver</th>\n",
       "      <th>user_rating</th>\n",
       "      <th>user_rating_ver</th>\n",
       "      <th>ver</th>\n",
       "      <th>cont_rating</th>\n",
       "      <th>prime_genre</th>\n",
       "      <th>sup_devices_num</th>\n",
       "      <th>images_num</th>\n",
       "      <th>lang_num</th>\n",
       "      <th>is_free</th>\n",
       "    </tr>\n",
       "  </thead>\n",
       "  <tbody>\n",
       "    <tr>\n",
       "      <th>0</th>\n",
       "      <td>1</td>\n",
       "      <td>PAC-MAN Premium</td>\n",
       "      <td>100788224</td>\n",
       "      <td>3.99</td>\n",
       "      <td>21292</td>\n",
       "      <td>26</td>\n",
       "      <td>4.0</td>\n",
       "      <td>4.5</td>\n",
       "      <td>6</td>\n",
       "      <td>4+</td>\n",
       "      <td>Games</td>\n",
       "      <td>38</td>\n",
       "      <td>5</td>\n",
       "      <td>10</td>\n",
       "      <td>1</td>\n",
       "    </tr>\n",
       "    <tr>\n",
       "      <th>1</th>\n",
       "      <td>2</td>\n",
       "      <td>Evernote - stay organized</td>\n",
       "      <td>158578688</td>\n",
       "      <td>0.00</td>\n",
       "      <td>161065</td>\n",
       "      <td>26</td>\n",
       "      <td>4.0</td>\n",
       "      <td>3.5</td>\n",
       "      <td>8</td>\n",
       "      <td>4+</td>\n",
       "      <td>Productivity</td>\n",
       "      <td>37</td>\n",
       "      <td>5</td>\n",
       "      <td>23</td>\n",
       "      <td>0</td>\n",
       "    </tr>\n",
       "    <tr>\n",
       "      <th>2</th>\n",
       "      <td>3</td>\n",
       "      <td>WeatherBug - Local Weather, Radar, Maps, Alerts</td>\n",
       "      <td>100524032</td>\n",
       "      <td>0.00</td>\n",
       "      <td>188583</td>\n",
       "      <td>2822</td>\n",
       "      <td>3.5</td>\n",
       "      <td>4.5</td>\n",
       "      <td>5</td>\n",
       "      <td>4+</td>\n",
       "      <td>Weather</td>\n",
       "      <td>37</td>\n",
       "      <td>5</td>\n",
       "      <td>3</td>\n",
       "      <td>0</td>\n",
       "    </tr>\n",
       "    <tr>\n",
       "      <th>3</th>\n",
       "      <td>4</td>\n",
       "      <td>eBay: Best App to Buy, Sell, Save! Online Shop...</td>\n",
       "      <td>128512000</td>\n",
       "      <td>0.00</td>\n",
       "      <td>262241</td>\n",
       "      <td>649</td>\n",
       "      <td>4.0</td>\n",
       "      <td>4.5</td>\n",
       "      <td>5</td>\n",
       "      <td>12+</td>\n",
       "      <td>Shopping</td>\n",
       "      <td>37</td>\n",
       "      <td>5</td>\n",
       "      <td>9</td>\n",
       "      <td>0</td>\n",
       "    </tr>\n",
       "    <tr>\n",
       "      <th>4</th>\n",
       "      <td>5</td>\n",
       "      <td>Bible</td>\n",
       "      <td>92774400</td>\n",
       "      <td>0.00</td>\n",
       "      <td>985920</td>\n",
       "      <td>5320</td>\n",
       "      <td>4.5</td>\n",
       "      <td>5.0</td>\n",
       "      <td>7</td>\n",
       "      <td>4+</td>\n",
       "      <td>Reference</td>\n",
       "      <td>37</td>\n",
       "      <td>5</td>\n",
       "      <td>45</td>\n",
       "      <td>0</td>\n",
       "    </tr>\n",
       "  </tbody>\n",
       "</table>\n",
       "</div>"
      ],
      "text/plain": [
       "   Unnamed: 0                                         track_name  size_bytes  \\\n",
       "0           1                                    PAC-MAN Premium   100788224   \n",
       "1           2                          Evernote - stay organized   158578688   \n",
       "2           3    WeatherBug - Local Weather, Radar, Maps, Alerts   100524032   \n",
       "3           4  eBay: Best App to Buy, Sell, Save! Online Shop...   128512000   \n",
       "4           5                                              Bible    92774400   \n",
       "\n",
       "   price  rating_count_tot  rating_count_ver  user_rating  user_rating_ver  \\\n",
       "0   3.99             21292                26          4.0              4.5   \n",
       "1   0.00            161065                26          4.0              3.5   \n",
       "2   0.00            188583              2822          3.5              4.5   \n",
       "3   0.00            262241               649          4.0              4.5   \n",
       "4   0.00            985920              5320          4.5              5.0   \n",
       "\n",
       "   ver cont_rating   prime_genre  sup_devices_num  images_num  lang_num  \\\n",
       "0    6          4+         Games               38           5        10   \n",
       "1    8          4+  Productivity               37           5        23   \n",
       "2    5          4+       Weather               37           5         3   \n",
       "3    5         12+      Shopping               37           5         9   \n",
       "4    7          4+     Reference               37           5        45   \n",
       "\n",
       "   is_free  \n",
       "0        1  \n",
       "1        0  \n",
       "2        0  \n",
       "3        0  \n",
       "4        0  "
      ]
     },
     "execution_count": 34,
     "metadata": {},
     "output_type": "execute_result"
    }
   ],
   "source": [
    "apps.head()"
   ]
  },
  {
   "cell_type": "markdown",
   "metadata": {},
   "source": [
    "#### Having cleaned the data and viewed the final product, I then moved on to exploring the data and asking some analytical questions. Three of the more interesting ones (and their results) are as follows."
   ]
  },
  {
   "cell_type": "markdown",
   "metadata": {},
   "source": [
    "## Data Questions"
   ]
  },
  {
   "cell_type": "markdown",
   "metadata": {},
   "source": [
    "## Question I: Do expensive apps tend to receive high ratings?"
   ]
  },
  {
   "cell_type": "markdown",
   "metadata": {},
   "source": [
    "#### Create a new dataframe of apps with user ratings"
   ]
  },
  {
   "cell_type": "code",
   "execution_count": 35,
   "metadata": {},
   "outputs": [],
   "source": [
    "q1 = apps[['price', 'user_rating']][apps['user_rating'] != 0].copy()"
   ]
  },
  {
   "cell_type": "markdown",
   "metadata": {},
   "source": [
    "#### Create plot of ratings for apps with reviews vs price"
   ]
  },
  {
   "cell_type": "code",
   "execution_count": 36,
   "metadata": {},
   "outputs": [
    {
     "data": {
      "image/png": "[encoded data removed]",
      "text/plain": [
       "<Figure size 432x432 with 3 Axes>"
      ]
     },
     "metadata": {
      "needs_background": "light"
     },
     "output_type": "display_data"
    }
   ],
   "source": [
    "sns.jointplot(x='price', y='user_rating', data=q1, kind='reg');"
   ]
  },
  {
   "cell_type": "markdown",
   "metadata": {},
   "source": [
    "#### There seems to be a slight degree of correlation between a higher price and a higher rating at a rating of 4 and above."
   ]
  },
  {
   "cell_type": "markdown",
   "metadata": {},
   "source": [
    "## Question II: What genre has the highest percentage of highly rated apps?"
   ]
  },
  {
   "cell_type": "markdown",
   "metadata": {},
   "source": [
    "#### Create a subset of data for apps that have ratings and then calculate the average rating for each category"
   ]
  },
  {
   "cell_type": "code",
   "execution_count": 37,
   "metadata": {},
   "outputs": [],
   "source": [
    "q2 = apps[['prime_genre', 'user_rating']][apps['user_rating'] != 0].copy()\n",
    "q2 = q2.groupby('prime_genre').mean()\n",
    "q2 = q2[['user_rating']]\n",
    "q2 = q2.sort_values('user_rating')"
   ]
  },
  {
   "cell_type": "markdown",
   "metadata": {},
   "source": [
    "#### Plot average user rating for each category"
   ]
  },
  {
   "cell_type": "code",
   "execution_count": 38,
   "metadata": {},
   "outputs": [
    {
     "data": {
      "image/png": "[encoded data removed]",
      "text/plain": [
       "<Figure size 432x288 with 1 Axes>"
      ]
     },
     "metadata": {
      "needs_background": "light"
     },
     "output_type": "display_data"
    }
   ],
   "source": [
    "sns_plt = sns.barplot(x='prime_genre',y='user_rating', data=q2.reset_index())\n",
    "sns_plt.set_xticklabels(sns_plt.get_xticklabels(), rotation = 90);\n",
    "\n",
    "# Add labels\n",
    "plt.title('Average Rating of Apps by Genre')\n",
    "plt.xlabel('Prime Genre')\n",
    "plt.ylabel('Average Rating')\n",
    "plt.show()"
   ]
  },
  {
   "cell_type": "markdown",
   "metadata": {},
   "source": [
    "#### It appears as though the 'Book' category recieves the highest rating on average followed by 'Catalogs', both of which fall at a rating of 4.2/5. On the low end, the 'Sports' category garners an average rating of just 3.4/5."
   ]
  },
  {
   "cell_type": "markdown",
   "metadata": {},
   "source": [
    "## Question III: Do apps with more reviews receive higher ratings?"
   ]
  },
  {
   "cell_type": "markdown",
   "metadata": {},
   "source": [
    "#### Create a subset of data for apps that have ratings"
   ]
  },
  {
   "cell_type": "code",
   "execution_count": 39,
   "metadata": {},
   "outputs": [],
   "source": [
    "q3 = apps[['rating_count_tot', 'user_rating']][apps['user_rating'] != 0].copy()"
   ]
  },
  {
   "cell_type": "markdown",
   "metadata": {},
   "source": [
    "#### Create plot of ratings for apps with reviews vs price"
   ]
  },
  {
   "cell_type": "code",
   "execution_count": 40,
   "metadata": {},
   "outputs": [
    {
     "data": {
      "image/png": "[encoded data removed]",
      "text/plain": [
       "<Figure size 432x432 with 3 Axes>"
      ]
     },
     "metadata": {
      "needs_background": "light"
     },
     "output_type": "display_data"
    }
   ],
   "source": [
    "sns.jointplot(x='rating_count_tot', y='user_rating', data=q3, kind='reg');"
   ]
  },
  {
   "cell_type": "markdown",
   "metadata": {},
   "source": [
    "#### In this case, it appears that a higher number of reviews has a correlation with a higher user rating, but only for apps with a rating of 3.5 or above"
   ]
  },
  {
   "cell_type": "markdown",
   "metadata": {},
   "source": [
    "### Having investigated the data, I now felt prepared to begin the process of predictive modeling. Using the Logistic Regression and Random Forest algorithms, I will now predict which apps will recieve a rating of above 4 utilizing the other available variables."
   ]
  },
  {
   "cell_type": "markdown",
   "metadata": {},
   "source": [
    "## Predictive Modeling"
   ]
  },
  {
   "cell_type": "markdown",
   "metadata": {},
   "source": [
    "### Can we predict highly rated apps (defined as a rating of 4 or higher)?"
   ]
  },
  {
   "cell_type": "markdown",
   "metadata": {},
   "source": [
    "#### Subset data to just those apps which recieved reviews"
   ]
  },
  {
   "cell_type": "code",
   "execution_count": 41,
   "metadata": {},
   "outputs": [],
   "source": [
    "apps = apps[apps['user_rating'] != 0]\n",
    "apps.reset_index(inplace=True)"
   ]
  },
  {
   "cell_type": "markdown",
   "metadata": {},
   "source": [
    "#### Create target variable for highly rated apps"
   ]
  },
  {
   "cell_type": "code",
   "execution_count": 42,
   "metadata": {},
   "outputs": [],
   "source": [
    "apps['target'] = np.where(apps['user_rating'] > 4, 1, 0)"
   ]
  },
  {
   "cell_type": "markdown",
   "metadata": {},
   "source": [
    "#### Label encode content ratings"
   ]
  },
  {
   "cell_type": "code",
   "execution_count": 43,
   "metadata": {},
   "outputs": [],
   "source": [
    "from sklearn.preprocessing import LabelBinarizer\n",
    "\n",
    "lb = LabelBinarizer()\n",
    "lb_ratings = lb.fit_transform(apps['cont_rating'])\n",
    "df_ratings = pd.DataFrame(lb_ratings, columns=lb.classes_)\n",
    "df_ratings = df_ratings.add_prefix('cont_rating_')"
   ]
  },
  {
   "cell_type": "markdown",
   "metadata": {},
   "source": [
    "#### Label encode genres"
   ]
  },
  {
   "cell_type": "code",
   "execution_count": 44,
   "metadata": {},
   "outputs": [],
   "source": [
    "lb_genres = lb.fit_transform(apps['prime_genre'])\n",
    "df_genres = pd.DataFrame(lb_genres, columns=lb.classes_)\n",
    "df_genres = df_genres.add_prefix('prime_genre_')"
   ]
  },
  {
   "cell_type": "markdown",
   "metadata": {},
   "source": [
    "#### Recombine data"
   ]
  },
  {
   "cell_type": "code",
   "execution_count": 45,
   "metadata": {},
   "outputs": [
    {
     "data": {
      "text/html": [
       "<div>\n",
       "<style scoped>\n",
       "    .dataframe tbody tr th:only-of-type {\n",
       "        vertical-align: middle;\n",
       "    }\n",
       "\n",
       "    .dataframe tbody tr th {\n",
       "        vertical-align: top;\n",
       "    }\n",
       "\n",
       "    .dataframe thead th {\n",
       "        text-align: right;\n",
       "    }\n",
       "</style>\n",
       "<table border=\"1\" class=\"dataframe\">\n",
       "  <thead>\n",
       "    <tr style=\"text-align: right;\">\n",
       "      <th></th>\n",
       "      <th>index</th>\n",
       "      <th>Unnamed: 0</th>\n",
       "      <th>track_name</th>\n",
       "      <th>size_bytes</th>\n",
       "      <th>price</th>\n",
       "      <th>rating_count_tot</th>\n",
       "      <th>rating_count_ver</th>\n",
       "      <th>user_rating</th>\n",
       "      <th>user_rating_ver</th>\n",
       "      <th>ver</th>\n",
       "      <th>...</th>\n",
       "      <th>prime_genre_News</th>\n",
       "      <th>prime_genre_Photo &amp; Video</th>\n",
       "      <th>prime_genre_Productivity</th>\n",
       "      <th>prime_genre_Reference</th>\n",
       "      <th>prime_genre_Shopping</th>\n",
       "      <th>prime_genre_Social Networking</th>\n",
       "      <th>prime_genre_Sports</th>\n",
       "      <th>prime_genre_Travel</th>\n",
       "      <th>prime_genre_Utilities</th>\n",
       "      <th>prime_genre_Weather</th>\n",
       "    </tr>\n",
       "  </thead>\n",
       "  <tbody>\n",
       "    <tr>\n",
       "      <th>0</th>\n",
       "      <td>0</td>\n",
       "      <td>1</td>\n",
       "      <td>PAC-MAN Premium</td>\n",
       "      <td>100788224</td>\n",
       "      <td>3.99</td>\n",
       "      <td>21292</td>\n",
       "      <td>26</td>\n",
       "      <td>4.0</td>\n",
       "      <td>4.5</td>\n",
       "      <td>6</td>\n",
       "      <td>...</td>\n",
       "      <td>0</td>\n",
       "      <td>0</td>\n",
       "      <td>0</td>\n",
       "      <td>0</td>\n",
       "      <td>0</td>\n",
       "      <td>0</td>\n",
       "      <td>0</td>\n",
       "      <td>0</td>\n",
       "      <td>0</td>\n",
       "      <td>0</td>\n",
       "    </tr>\n",
       "    <tr>\n",
       "      <th>1</th>\n",
       "      <td>1</td>\n",
       "      <td>2</td>\n",
       "      <td>Evernote - stay organized</td>\n",
       "      <td>158578688</td>\n",
       "      <td>0.00</td>\n",
       "      <td>161065</td>\n",
       "      <td>26</td>\n",
       "      <td>4.0</td>\n",
       "      <td>3.5</td>\n",
       "      <td>8</td>\n",
       "      <td>...</td>\n",
       "      <td>0</td>\n",
       "      <td>0</td>\n",
       "      <td>1</td>\n",
       "      <td>0</td>\n",
       "      <td>0</td>\n",
       "      <td>0</td>\n",
       "      <td>0</td>\n",
       "      <td>0</td>\n",
       "      <td>0</td>\n",
       "      <td>0</td>\n",
       "    </tr>\n",
       "    <tr>\n",
       "      <th>2</th>\n",
       "      <td>2</td>\n",
       "      <td>3</td>\n",
       "      <td>WeatherBug - Local Weather, Radar, Maps, Alerts</td>\n",
       "      <td>100524032</td>\n",
       "      <td>0.00</td>\n",
       "      <td>188583</td>\n",
       "      <td>2822</td>\n",
       "      <td>3.5</td>\n",
       "      <td>4.5</td>\n",
       "      <td>5</td>\n",
       "      <td>...</td>\n",
       "      <td>0</td>\n",
       "      <td>0</td>\n",
       "      <td>0</td>\n",
       "      <td>0</td>\n",
       "      <td>0</td>\n",
       "      <td>0</td>\n",
       "      <td>0</td>\n",
       "      <td>0</td>\n",
       "      <td>0</td>\n",
       "      <td>1</td>\n",
       "    </tr>\n",
       "    <tr>\n",
       "      <th>3</th>\n",
       "      <td>3</td>\n",
       "      <td>4</td>\n",
       "      <td>eBay: Best App to Buy, Sell, Save! Online Shop...</td>\n",
       "      <td>128512000</td>\n",
       "      <td>0.00</td>\n",
       "      <td>262241</td>\n",
       "      <td>649</td>\n",
       "      <td>4.0</td>\n",
       "      <td>4.5</td>\n",
       "      <td>5</td>\n",
       "      <td>...</td>\n",
       "      <td>0</td>\n",
       "      <td>0</td>\n",
       "      <td>0</td>\n",
       "      <td>0</td>\n",
       "      <td>1</td>\n",
       "      <td>0</td>\n",
       "      <td>0</td>\n",
       "      <td>0</td>\n",
       "      <td>0</td>\n",
       "      <td>0</td>\n",
       "    </tr>\n",
       "    <tr>\n",
       "      <th>4</th>\n",
       "      <td>4</td>\n",
       "      <td>5</td>\n",
       "      <td>Bible</td>\n",
       "      <td>92774400</td>\n",
       "      <td>0.00</td>\n",
       "      <td>985920</td>\n",
       "      <td>5320</td>\n",
       "      <td>4.5</td>\n",
       "      <td>5.0</td>\n",
       "      <td>7</td>\n",
       "      <td>...</td>\n",
       "      <td>0</td>\n",
       "      <td>0</td>\n",
       "      <td>0</td>\n",
       "      <td>1</td>\n",
       "      <td>0</td>\n",
       "      <td>0</td>\n",
       "      <td>0</td>\n",
       "      <td>0</td>\n",
       "      <td>0</td>\n",
       "      <td>0</td>\n",
       "    </tr>\n",
       "  </tbody>\n",
       "</table>\n",
       "<p>5 rows × 44 columns</p>\n",
       "</div>"
      ],
      "text/plain": [
       "   index  Unnamed: 0                                         track_name  \\\n",
       "0      0           1                                    PAC-MAN Premium   \n",
       "1      1           2                          Evernote - stay organized   \n",
       "2      2           3    WeatherBug - Local Weather, Radar, Maps, Alerts   \n",
       "3      3           4  eBay: Best App to Buy, Sell, Save! Online Shop...   \n",
       "4      4           5                                              Bible   \n",
       "\n",
       "   size_bytes  price  rating_count_tot  rating_count_ver  user_rating  \\\n",
       "0   100788224   3.99             21292                26          4.0   \n",
       "1   158578688   0.00            161065                26          4.0   \n",
       "2   100524032   0.00            188583              2822          3.5   \n",
       "3   128512000   0.00            262241               649          4.0   \n",
       "4    92774400   0.00            985920              5320          4.5   \n",
       "\n",
       "   user_rating_ver  ver  ... prime_genre_News prime_genre_Photo & Video  \\\n",
       "0              4.5    6  ...                0                         0   \n",
       "1              3.5    8  ...                0                         0   \n",
       "2              4.5    5  ...                0                         0   \n",
       "3              4.5    5  ...                0                         0   \n",
       "4              5.0    7  ...                0                         0   \n",
       "\n",
       "   prime_genre_Productivity  prime_genre_Reference  prime_genre_Shopping  \\\n",
       "0                         0                      0                     0   \n",
       "1                         1                      0                     0   \n",
       "2                         0                      0                     0   \n",
       "3                         0                      0                     1   \n",
       "4                         0                      1                     0   \n",
       "\n",
       "   prime_genre_Social Networking  prime_genre_Sports  prime_genre_Travel  \\\n",
       "0                              0                   0                   0   \n",
       "1                              0                   0                   0   \n",
       "2                              0                   0                   0   \n",
       "3                              0                   0                   0   \n",
       "4                              0                   0                   0   \n",
       "\n",
       "   prime_genre_Utilities  prime_genre_Weather  \n",
       "0                      0                    0  \n",
       "1                      0                    0  \n",
       "2                      0                    1  \n",
       "3                      0                    0  \n",
       "4                      0                    0  \n",
       "\n",
       "[5 rows x 44 columns]"
      ]
     },
     "execution_count": 45,
     "metadata": {},
     "output_type": "execute_result"
    }
   ],
   "source": [
    "en_apps = pd.concat([apps, df_ratings, df_genres], axis=1)\n",
    "en_apps.head()"
   ]
  },
  {
   "cell_type": "markdown",
   "metadata": {},
   "source": [
    "### Drop unused columns"
   ]
  },
  {
   "cell_type": "code",
   "execution_count": 46,
   "metadata": {},
   "outputs": [],
   "source": [
    "en_apps = en_apps.drop('track_name', 1)\n",
    "en_apps = en_apps.drop('Unnamed: 0', 1)\n",
    "en_apps = en_apps.drop('prime_genre', 1)\n",
    "en_apps = en_apps.drop('cont_rating', 1)\n",
    "en_apps = en_apps.drop('ver', 1)\n",
    "en_apps = en_apps.drop('user_rating', 1)\n",
    "en_apps = en_apps.drop('user_rating_ver', 1)\n",
    "en_apps = en_apps.drop('index', 1)"
   ]
  },
  {
   "cell_type": "markdown",
   "metadata": {},
   "source": [
    "### Check results"
   ]
  },
  {
   "cell_type": "code",
   "execution_count": 47,
   "metadata": {},
   "outputs": [
    {
     "data": {
      "text/html": [
       "<div>\n",
       "<style scoped>\n",
       "    .dataframe tbody tr th:only-of-type {\n",
       "        vertical-align: middle;\n",
       "    }\n",
       "\n",
       "    .dataframe tbody tr th {\n",
       "        vertical-align: top;\n",
       "    }\n",
       "\n",
       "    .dataframe thead th {\n",
       "        text-align: right;\n",
       "    }\n",
       "</style>\n",
       "<table border=\"1\" class=\"dataframe\">\n",
       "  <thead>\n",
       "    <tr style=\"text-align: right;\">\n",
       "      <th></th>\n",
       "      <th>size_bytes</th>\n",
       "      <th>price</th>\n",
       "      <th>rating_count_tot</th>\n",
       "      <th>rating_count_ver</th>\n",
       "      <th>sup_devices_num</th>\n",
       "      <th>images_num</th>\n",
       "      <th>lang_num</th>\n",
       "      <th>is_free</th>\n",
       "      <th>target</th>\n",
       "      <th>cont_rating_12+</th>\n",
       "      <th>...</th>\n",
       "      <th>prime_genre_News</th>\n",
       "      <th>prime_genre_Photo &amp; Video</th>\n",
       "      <th>prime_genre_Productivity</th>\n",
       "      <th>prime_genre_Reference</th>\n",
       "      <th>prime_genre_Shopping</th>\n",
       "      <th>prime_genre_Social Networking</th>\n",
       "      <th>prime_genre_Sports</th>\n",
       "      <th>prime_genre_Travel</th>\n",
       "      <th>prime_genre_Utilities</th>\n",
       "      <th>prime_genre_Weather</th>\n",
       "    </tr>\n",
       "  </thead>\n",
       "  <tbody>\n",
       "    <tr>\n",
       "      <th>0</th>\n",
       "      <td>100788224</td>\n",
       "      <td>3.99</td>\n",
       "      <td>21292</td>\n",
       "      <td>26</td>\n",
       "      <td>38</td>\n",
       "      <td>5</td>\n",
       "      <td>10</td>\n",
       "      <td>1</td>\n",
       "      <td>0</td>\n",
       "      <td>0</td>\n",
       "      <td>...</td>\n",
       "      <td>0</td>\n",
       "      <td>0</td>\n",
       "      <td>0</td>\n",
       "      <td>0</td>\n",
       "      <td>0</td>\n",
       "      <td>0</td>\n",
       "      <td>0</td>\n",
       "      <td>0</td>\n",
       "      <td>0</td>\n",
       "      <td>0</td>\n",
       "    </tr>\n",
       "    <tr>\n",
       "      <th>1</th>\n",
       "      <td>158578688</td>\n",
       "      <td>0.00</td>\n",
       "      <td>161065</td>\n",
       "      <td>26</td>\n",
       "      <td>37</td>\n",
       "      <td>5</td>\n",
       "      <td>23</td>\n",
       "      <td>0</td>\n",
       "      <td>0</td>\n",
       "      <td>0</td>\n",
       "      <td>...</td>\n",
       "      <td>0</td>\n",
       "      <td>0</td>\n",
       "      <td>1</td>\n",
       "      <td>0</td>\n",
       "      <td>0</td>\n",
       "      <td>0</td>\n",
       "      <td>0</td>\n",
       "      <td>0</td>\n",
       "      <td>0</td>\n",
       "      <td>0</td>\n",
       "    </tr>\n",
       "    <tr>\n",
       "      <th>2</th>\n",
       "      <td>100524032</td>\n",
       "      <td>0.00</td>\n",
       "      <td>188583</td>\n",
       "      <td>2822</td>\n",
       "      <td>37</td>\n",
       "      <td>5</td>\n",
       "      <td>3</td>\n",
       "      <td>0</td>\n",
       "      <td>0</td>\n",
       "      <td>0</td>\n",
       "      <td>...</td>\n",
       "      <td>0</td>\n",
       "      <td>0</td>\n",
       "      <td>0</td>\n",
       "      <td>0</td>\n",
       "      <td>0</td>\n",
       "      <td>0</td>\n",
       "      <td>0</td>\n",
       "      <td>0</td>\n",
       "      <td>0</td>\n",
       "      <td>1</td>\n",
       "    </tr>\n",
       "    <tr>\n",
       "      <th>3</th>\n",
       "      <td>128512000</td>\n",
       "      <td>0.00</td>\n",
       "      <td>262241</td>\n",
       "      <td>649</td>\n",
       "      <td>37</td>\n",
       "      <td>5</td>\n",
       "      <td>9</td>\n",
       "      <td>0</td>\n",
       "      <td>0</td>\n",
       "      <td>1</td>\n",
       "      <td>...</td>\n",
       "      <td>0</td>\n",
       "      <td>0</td>\n",
       "      <td>0</td>\n",
       "      <td>0</td>\n",
       "      <td>1</td>\n",
       "      <td>0</td>\n",
       "      <td>0</td>\n",
       "      <td>0</td>\n",
       "      <td>0</td>\n",
       "      <td>0</td>\n",
       "    </tr>\n",
       "    <tr>\n",
       "      <th>4</th>\n",
       "      <td>92774400</td>\n",
       "      <td>0.00</td>\n",
       "      <td>985920</td>\n",
       "      <td>5320</td>\n",
       "      <td>37</td>\n",
       "      <td>5</td>\n",
       "      <td>45</td>\n",
       "      <td>0</td>\n",
       "      <td>1</td>\n",
       "      <td>0</td>\n",
       "      <td>...</td>\n",
       "      <td>0</td>\n",
       "      <td>0</td>\n",
       "      <td>0</td>\n",
       "      <td>1</td>\n",
       "      <td>0</td>\n",
       "      <td>0</td>\n",
       "      <td>0</td>\n",
       "      <td>0</td>\n",
       "      <td>0</td>\n",
       "      <td>0</td>\n",
       "    </tr>\n",
       "  </tbody>\n",
       "</table>\n",
       "<p>5 rows × 36 columns</p>\n",
       "</div>"
      ],
      "text/plain": [
       "   size_bytes  price  rating_count_tot  rating_count_ver  sup_devices_num  \\\n",
       "0   100788224   3.99             21292                26               38   \n",
       "1   158578688   0.00            161065                26               37   \n",
       "2   100524032   0.00            188583              2822               37   \n",
       "3   128512000   0.00            262241               649               37   \n",
       "4    92774400   0.00            985920              5320               37   \n",
       "\n",
       "   images_num  lang_num  is_free  target  cont_rating_12+  ...  \\\n",
       "0           5        10        1       0                0  ...   \n",
       "1           5        23        0       0                0  ...   \n",
       "2           5         3        0       0                0  ...   \n",
       "3           5         9        0       0                1  ...   \n",
       "4           5        45        0       1                0  ...   \n",
       "\n",
       "   prime_genre_News  prime_genre_Photo & Video  prime_genre_Productivity  \\\n",
       "0                 0                          0                         0   \n",
       "1                 0                          0                         1   \n",
       "2                 0                          0                         0   \n",
       "3                 0                          0                         0   \n",
       "4                 0                          0                         0   \n",
       "\n",
       "   prime_genre_Reference  prime_genre_Shopping  prime_genre_Social Networking  \\\n",
       "0                      0                     0                              0   \n",
       "1                      0                     0                              0   \n",
       "2                      0                     0                              0   \n",
       "3                      0                     1                              0   \n",
       "4                      1                     0                              0   \n",
       "\n",
       "   prime_genre_Sports  prime_genre_Travel  prime_genre_Utilities  \\\n",
       "0                   0                   0                      0   \n",
       "1                   0                   0                      0   \n",
       "2                   0                   0                      0   \n",
       "3                   0                   0                      0   \n",
       "4                   0                   0                      0   \n",
       "\n",
       "   prime_genre_Weather  \n",
       "0                    0  \n",
       "1                    0  \n",
       "2                    1  \n",
       "3                    0  \n",
       "4                    0  \n",
       "\n",
       "[5 rows x 36 columns]"
      ]
     },
     "execution_count": 47,
     "metadata": {},
     "output_type": "execute_result"
    }
   ],
   "source": [
    "en_apps.head()"
   ]
  },
  {
   "cell_type": "code",
   "execution_count": 48,
   "metadata": {
    "scrolled": true
   },
   "outputs": [
    {
     "name": "stdout",
     "output_type": "stream",
     "text": [
      "<class 'pandas.core.frame.DataFrame'>\n",
      "RangeIndex: 6261 entries, 0 to 6260\n",
      "Data columns (total 36 columns):\n",
      "size_bytes                       6261 non-null int64\n",
      "price                            6261 non-null float64\n",
      "rating_count_tot                 6261 non-null int64\n",
      "rating_count_ver                 6261 non-null int64\n",
      "sup_devices_num                  6261 non-null int64\n",
      "images_num                       6261 non-null int64\n",
      "lang_num                         6261 non-null int64\n",
      "is_free                          6261 non-null int32\n",
      "target                           6261 non-null int32\n",
      "cont_rating_12+                  6261 non-null int32\n",
      "cont_rating_17+                  6261 non-null int32\n",
      "cont_rating_4+                   6261 non-null int32\n",
      "cont_rating_9+                   6261 non-null int32\n",
      "prime_genre_Book                 6261 non-null int32\n",
      "prime_genre_Business             6261 non-null int32\n",
      "prime_genre_Catalogs             6261 non-null int32\n",
      "prime_genre_Education            6261 non-null int32\n",
      "prime_genre_Entertainment        6261 non-null int32\n",
      "prime_genre_Finance              6261 non-null int32\n",
      "prime_genre_Food & Drink         6261 non-null int32\n",
      "prime_genre_Games                6261 non-null int32\n",
      "prime_genre_Health & Fitness     6261 non-null int32\n",
      "prime_genre_Lifestyle            6261 non-null int32\n",
      "prime_genre_Medical              6261 non-null int32\n",
      "prime_genre_Music                6261 non-null int32\n",
      "prime_genre_Navigation           6261 non-null int32\n",
      "prime_genre_News                 6261 non-null int32\n",
      "prime_genre_Photo & Video        6261 non-null int32\n",
      "prime_genre_Productivity         6261 non-null int32\n",
      "prime_genre_Reference            6261 non-null int32\n",
      "prime_genre_Shopping             6261 non-null int32\n",
      "prime_genre_Social Networking    6261 non-null int32\n",
      "prime_genre_Sports               6261 non-null int32\n",
      "prime_genre_Travel               6261 non-null int32\n",
      "prime_genre_Utilities            6261 non-null int32\n",
      "prime_genre_Weather              6261 non-null int32\n",
      "dtypes: float64(1), int32(29), int64(6)\n",
      "memory usage: 1.0 MB\n"
     ]
    }
   ],
   "source": [
    "en_apps.info()"
   ]
  },
  {
   "cell_type": "markdown",
   "metadata": {},
   "source": [
    "### Split data into train and test sets"
   ]
  },
  {
   "cell_type": "code",
   "execution_count": 49,
   "metadata": {},
   "outputs": [],
   "source": [
    "X = en_apps.loc[:, en_apps.columns != 'target'].values\n",
    "y = en_apps.loc[:, en_apps.columns == 'target'].values\n",
    "\n",
    "from sklearn.model_selection import train_test_split\n",
    "X_train, X_test, y_train, y_test = train_test_split(X, y, test_size = 0.2, random_state = 151)"
   ]
  },
  {
   "cell_type": "markdown",
   "metadata": {},
   "source": [
    "### Create Random Forest Model"
   ]
  },
  {
   "cell_type": "markdown",
   "metadata": {},
   "source": [
    "#### Utilize Cross Validation and Grid Search to create an optimized Random Forest model using Area Under Curve for scoring"
   ]
  },
  {
   "cell_type": "code",
   "execution_count": 50,
   "metadata": {},
   "outputs": [
    {
     "name": "stdout",
     "output_type": "stream",
     "text": [
      "Fitting 5 folds for each of 500 candidates, totalling 2500 fits\n"
     ]
    },
    {
     "name": "stderr",
     "output_type": "stream",
     "text": [
      "[Parallel(n_jobs=-1)]: Using backend LokyBackend with 16 concurrent workers.\n",
      "[Parallel(n_jobs=-1)]: Done  18 tasks      | elapsed:    3.9s\n",
      "[Parallel(n_jobs=-1)]: Done 168 tasks      | elapsed:   20.2s\n",
      "[Parallel(n_jobs=-1)]: Done 418 tasks      | elapsed:   47.0s\n",
      "[Parallel(n_jobs=-1)]: Done 768 tasks      | elapsed:  1.5min\n",
      "[Parallel(n_jobs=-1)]: Done 1218 tasks      | elapsed:  2.7min\n",
      "[Parallel(n_jobs=-1)]: Done 1768 tasks      | elapsed:  4.3min\n",
      "[Parallel(n_jobs=-1)]: Done 2418 tasks      | elapsed:  6.2min\n",
      "[Parallel(n_jobs=-1)]: Done 2500 out of 2500 | elapsed:  6.4min finished\n",
      "C:\\ProgramData\\Anaconda3\\lib\\site-packages\\sklearn\\model_selection\\_search.py:715: DataConversionWarning:\n",
      "\n",
      "A column-vector y was passed when a 1d array was expected. Please change the shape of y to (n_samples,), for example using ravel().\n",
      "\n"
     ]
    }
   ],
   "source": [
    "from sklearn.ensemble import RandomForestClassifier\n",
    "from sklearn.model_selection import GridSearchCV\n",
    "\n",
    "rf = RandomForestClassifier(random_state = 151)\n",
    "\n",
    "n_estimators = [100, 300, 500, 800, 1200]\n",
    "max_depth = [5, 8, 15, 25, 30]\n",
    "min_samples_split = [2, 5, 10, 15, 100]\n",
    "min_samples_leaf = [1, 2, 5, 10] \n",
    "\n",
    "hyper = dict(n_estimators = n_estimators,\n",
    "             max_depth = max_depth,  \n",
    "             min_samples_split = min_samples_split, \n",
    "             min_samples_leaf = min_samples_leaf)\n",
    "\n",
    "grid = GridSearchCV(rf, \n",
    "                    hyper, \n",
    "                    cv = 5, \n",
    "                    verbose = 1, \n",
    "                    n_jobs = -1,\n",
    "                    scoring='roc_auc')\n",
    "\n",
    "opt_hyper = grid.fit(X_train, y_train)"
   ]
  },
  {
   "cell_type": "markdown",
   "metadata": {},
   "source": [
    "#### Utilize optimized Random Forest model on test data"
   ]
  },
  {
   "cell_type": "code",
   "execution_count": 51,
   "metadata": {},
   "outputs": [
    {
     "name": "stderr",
     "output_type": "stream",
     "text": [
      "C:\\ProgramData\\Anaconda3\\lib\\site-packages\\ipykernel_launcher.py:3: DataConversionWarning:\n",
      "\n",
      "A column-vector y was passed when a 1d array was expected. Please change the shape of y to (n_samples,), for example using ravel().\n",
      "\n"
     ]
    }
   ],
   "source": [
    "opt_rf = opt_hyper.best_estimator_\n",
    "                                   \n",
    "opt_model = opt_rf.fit(X_train, y_train)\n",
    "y_pred = opt_model.predict(X_test)"
   ]
  },
  {
   "cell_type": "markdown",
   "metadata": {},
   "source": [
    "#### Get Area Under Curve for optimized model"
   ]
  },
  {
   "cell_type": "code",
   "execution_count": 52,
   "metadata": {},
   "outputs": [
    {
     "name": "stdout",
     "output_type": "stream",
     "text": [
      "AUC: 0.676439637160475\n"
     ]
    }
   ],
   "source": [
    "from sklearn import metrics\n",
    "\n",
    "print(\"AUC:\",metrics.roc_auc_score(y_test, y_pred))"
   ]
  },
  {
   "cell_type": "markdown",
   "metadata": {},
   "source": [
    "#### With our optimized model we are able to achieve an AUC score of 67%, not bad."
   ]
  },
  {
   "cell_type": "markdown",
   "metadata": {},
   "source": [
    "### View Feature Importances"
   ]
  },
  {
   "cell_type": "code",
   "execution_count": 53,
   "metadata": {},
   "outputs": [],
   "source": [
    "feature_importances = pd.DataFrame(opt_rf.feature_importances_,\n",
    "                                   index = en_apps.loc[:, en_apps.columns != 'target'].columns.values,\n",
    "                                   columns=['importance']).sort_values('importance', ascending=False)"
   ]
  },
  {
   "cell_type": "code",
   "execution_count": 54,
   "metadata": {},
   "outputs": [
    {
     "data": {
      "text/html": [
       "<div>\n",
       "<style scoped>\n",
       "    .dataframe tbody tr th:only-of-type {\n",
       "        vertical-align: middle;\n",
       "    }\n",
       "\n",
       "    .dataframe tbody tr th {\n",
       "        vertical-align: top;\n",
       "    }\n",
       "\n",
       "    .dataframe thead th {\n",
       "        text-align: right;\n",
       "    }\n",
       "</style>\n",
       "<table border=\"1\" class=\"dataframe\">\n",
       "  <thead>\n",
       "    <tr style=\"text-align: right;\">\n",
       "      <th></th>\n",
       "      <th>importance</th>\n",
       "    </tr>\n",
       "  </thead>\n",
       "  <tbody>\n",
       "    <tr>\n",
       "      <th>rating_count_tot</th>\n",
       "      <td>0.239798</td>\n",
       "    </tr>\n",
       "    <tr>\n",
       "      <th>rating_count_ver</th>\n",
       "      <td>0.185941</td>\n",
       "    </tr>\n",
       "    <tr>\n",
       "      <th>size_bytes</th>\n",
       "      <td>0.150228</td>\n",
       "    </tr>\n",
       "    <tr>\n",
       "      <th>lang_num</th>\n",
       "      <td>0.081850</td>\n",
       "    </tr>\n",
       "    <tr>\n",
       "      <th>sup_devices_num</th>\n",
       "      <td>0.056474</td>\n",
       "    </tr>\n",
       "    <tr>\n",
       "      <th>price</th>\n",
       "      <td>0.048473</td>\n",
       "    </tr>\n",
       "    <tr>\n",
       "      <th>images_num</th>\n",
       "      <td>0.039067</td>\n",
       "    </tr>\n",
       "    <tr>\n",
       "      <th>prime_genre_Games</th>\n",
       "      <td>0.029780</td>\n",
       "    </tr>\n",
       "    <tr>\n",
       "      <th>prime_genre_Entertainment</th>\n",
       "      <td>0.020395</td>\n",
       "    </tr>\n",
       "    <tr>\n",
       "      <th>is_free</th>\n",
       "      <td>0.015669</td>\n",
       "    </tr>\n",
       "  </tbody>\n",
       "</table>\n",
       "</div>"
      ],
      "text/plain": [
       "                           importance\n",
       "rating_count_tot             0.239798\n",
       "rating_count_ver             0.185941\n",
       "size_bytes                   0.150228\n",
       "lang_num                     0.081850\n",
       "sup_devices_num              0.056474\n",
       "price                        0.048473\n",
       "images_num                   0.039067\n",
       "prime_genre_Games            0.029780\n",
       "prime_genre_Entertainment    0.020395\n",
       "is_free                      0.015669"
      ]
     },
     "execution_count": 54,
     "metadata": {},
     "output_type": "execute_result"
    }
   ],
   "source": [
    "feature_importances.head(10)"
   ]
  },
  {
   "cell_type": "code",
   "execution_count": 55,
   "metadata": {},
   "outputs": [
    {
     "data": {
      "text/html": [
       "<div>\n",
       "<style scoped>\n",
       "    .dataframe tbody tr th:only-of-type {\n",
       "        vertical-align: middle;\n",
       "    }\n",
       "\n",
       "    .dataframe tbody tr th {\n",
       "        vertical-align: top;\n",
       "    }\n",
       "\n",
       "    .dataframe thead th {\n",
       "        text-align: right;\n",
       "    }\n",
       "</style>\n",
       "<table border=\"1\" class=\"dataframe\">\n",
       "  <thead>\n",
       "    <tr style=\"text-align: right;\">\n",
       "      <th></th>\n",
       "      <th>feature</th>\n",
       "      <th>importance</th>\n",
       "    </tr>\n",
       "  </thead>\n",
       "  <tbody>\n",
       "    <tr>\n",
       "      <th>0</th>\n",
       "      <td>rating_count_tot</td>\n",
       "      <td>0.239798</td>\n",
       "    </tr>\n",
       "    <tr>\n",
       "      <th>1</th>\n",
       "      <td>rating_count_ver</td>\n",
       "      <td>0.185941</td>\n",
       "    </tr>\n",
       "    <tr>\n",
       "      <th>2</th>\n",
       "      <td>size_bytes</td>\n",
       "      <td>0.150228</td>\n",
       "    </tr>\n",
       "    <tr>\n",
       "      <th>3</th>\n",
       "      <td>lang_num</td>\n",
       "      <td>0.081850</td>\n",
       "    </tr>\n",
       "    <tr>\n",
       "      <th>4</th>\n",
       "      <td>sup_devices_num</td>\n",
       "      <td>0.056474</td>\n",
       "    </tr>\n",
       "    <tr>\n",
       "      <th>5</th>\n",
       "      <td>price</td>\n",
       "      <td>0.048473</td>\n",
       "    </tr>\n",
       "    <tr>\n",
       "      <th>6</th>\n",
       "      <td>images_num</td>\n",
       "      <td>0.039067</td>\n",
       "    </tr>\n",
       "    <tr>\n",
       "      <th>7</th>\n",
       "      <td>prime_genre_Games</td>\n",
       "      <td>0.029780</td>\n",
       "    </tr>\n",
       "    <tr>\n",
       "      <th>8</th>\n",
       "      <td>prime_genre_Entertainment</td>\n",
       "      <td>0.020395</td>\n",
       "    </tr>\n",
       "    <tr>\n",
       "      <th>9</th>\n",
       "      <td>is_free</td>\n",
       "      <td>0.015669</td>\n",
       "    </tr>\n",
       "  </tbody>\n",
       "</table>\n",
       "</div>"
      ],
      "text/plain": [
       "                     feature  importance\n",
       "0           rating_count_tot    0.239798\n",
       "1           rating_count_ver    0.185941\n",
       "2                 size_bytes    0.150228\n",
       "3                   lang_num    0.081850\n",
       "4            sup_devices_num    0.056474\n",
       "5                      price    0.048473\n",
       "6                 images_num    0.039067\n",
       "7          prime_genre_Games    0.029780\n",
       "8  prime_genre_Entertainment    0.020395\n",
       "9                    is_free    0.015669"
      ]
     },
     "execution_count": 55,
     "metadata": {},
     "output_type": "execute_result"
    }
   ],
   "source": [
    "feature_importances.reset_index(inplace=True)\n",
    "feature_importances = feature_importances.rename(columns={'index': 'feature'}).head(10)\n",
    "feature_importances"
   ]
  },
  {
   "cell_type": "code",
   "execution_count": 56,
   "metadata": {},
   "outputs": [
    {
     "data": {
      "image/png": "[encoded data removed]",
      "text/plain": [
       "<Figure size 432x288 with 1 Axes>"
      ]
     },
     "metadata": {
      "needs_background": "light"
     },
     "output_type": "display_data"
    }
   ],
   "source": [
    "sns_plt = sns.barplot(x='feature', y='importance', data=feature_importances)\n",
    "sns_plt.set_xticklabels(sns_plt.get_xticklabels(), rotation = 90);\n",
    "\n",
    "# Add labels\n",
    "plt.title('Top 10 Features for Random Forest Model')\n",
    "plt.xlabel('Feature')\n",
    "plt.ylabel('Importance')\n",
    "plt.show()"
   ]
  },
  {
   "cell_type": "markdown",
   "metadata": {},
   "source": [
    "#### Judging by the features importances generated by our optimized Random Forest model, rating count in general and for the current app version are the most important indicators of a high overall review score followed by size in bytes and the number of supported languages."
   ]
  },
  {
   "cell_type": "code",
   "execution_count": null,
   "metadata": {},
   "outputs": [],
   "source": []
  }
 ],
 "metadata": {
  "kernelspec": {
   "display_name": "Python 3",
   "language": "python",
   "name": "python3"
  },
  "language_info": {
   "codemirror_mode": {
    "name": "ipython",
    "version": 3
   },
   "file_extension": ".py",
   "mimetype": "text/x-python",
   "name": "python",
   "nbconvert_exporter": "python",
   "pygments_lexer": "ipython3",
   "version": "3.7.4"
  }
 },
 "nbformat": 4,
 "nbformat_minor": 4
}
